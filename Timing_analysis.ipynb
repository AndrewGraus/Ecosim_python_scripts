{
 "cells": [
  {
   "cell_type": "code",
   "execution_count": 1,
   "metadata": {},
   "outputs": [
    {
     "name": "stdout",
     "output_type": "stream",
     "text": [
      "Populating the interactive namespace from numpy and matplotlib\n"
     ]
    }
   ],
   "source": [
    "%pylab inline"
   ]
  },
  {
   "cell_type": "code",
   "execution_count": 2,
   "metadata": {},
   "outputs": [],
   "source": [
    "import numpy as np"
   ]
  },
  {
   "cell_type": "code",
   "execution_count": 48,
   "metadata": {},
   "outputs": [],
   "source": [
    "f = np.loadtxt('./time_timing_branch.txt',delimiter=',',dtype=object)\n",
    "f_modular = np.loadtxt('./time_modular_branch.txt',delimiter=',',dtype=object)"
   ]
  },
  {
   "cell_type": "code",
   "execution_count": 59,
   "metadata": {},
   "outputs": [
    {
     "name": "stdout",
     "output_type": "stream",
     "text": [
      "[1.24887078e-05 5.42300349e-05 1.78353783e-03 2.37970314e-03\n",
      " 3.69732247e-07 1.49685681e-06 1.79138533e-06 4.87310827e-07\n",
      " 1.11518044e-05 3.76232526e-03 2.42863795e-06 1.37648428e-06]\n"
     ]
    }
   ],
   "source": [
    "header = f[0,1:-1]\n",
    "steps = f[1:-1,0]\n",
    "WTHR = f[1:-1,1]\n",
    "HOUR1 = f[1:-1,2]\n",
    "NIT = f[1:-1,4]\n",
    "#number array\n",
    "f_nums = np.float64(f[1:-1,1:-1])\n",
    "f_nums[f_nums<0] = 0 \n",
    "f_means = np.mean(f_nums,axis=0)\n",
    "print(f_means)"
   ]
  },
  {
   "cell_type": "code",
   "execution_count": 60,
   "metadata": {},
   "outputs": [],
   "source": [
    "header_modular = f_modular[0,1:-1]\n",
    "steps_modular = f_modular[1:-1,0]\n",
    "WTHR_modular = f_modular[1:-1,1]\n",
    "HOUR1_modular = f_modular[1:-1,2]\n",
    "NIT_modular = f_modular[1:-1,4]\n",
    "#number array\n",
    "f_nums_modular = np.float64(f_modular[1:-1,1:-1])\n",
    "f_nums_modular[f_nums_modular<0] = 0.0\n",
    "f_means_modular = np.mean(f_nums_modular,axis=0)"
   ]
  },
  {
   "cell_type": "code",
   "execution_count": 68,
   "metadata": {},
   "outputs": [
    {
     "name": "stdout",
     "output_type": "stream",
     "text": [
      "module               timing branch                    modular branch                  diff\n",
      "WTHR                : 1.2488707799766874e-05 seconds, 1.2406752037252282e-05 seconds, 0.006562389306291748\n",
      "HOUR1               : 5.4230034924328695e-05 seconds, 5.347403958090575e-05 seconds, 0.013940528426320289\n",
      "WAT                 : 0.0017835378346914988 seconds, 0.0017961401629802082 seconds, -0.007065915868776186\n",
      "NIT                 : 0.002379703143189752 seconds, 0.0023413538998836 seconds, 0.016115137476663943\n",
      "HFUNC               : 3.6973224679396137e-07 seconds, 3.175785797398097e-07 seconds, 0.14105793450906395\n",
      "UPTK                : 1.4968568102371686e-06 seconds, 1.5094295692593586e-06 seconds, -0.008399440037419423\n",
      "GRO                 : 1.7913853317782604e-06 seconds, 1.6752037252569035e-06 seconds, 0.06485573174032104\n",
      "EXTR                : 4.87310826536566e-07 seconds, 2.9220023282481705e-07 seconds, 0.40038222647021077\n",
      "SOL                 : 1.1151804423748306e-05 seconds, 1.0693364377182264e-05 seconds, 0.041109046495630124\n",
      "TRN                 : 0.0037623252619324605 seconds, 0.003628407916181602 seconds, 0.03559430310447795\n",
      "TRNSFRS             : 2.4286379511060338e-06 seconds, 2.5071012805588686e-06 seconds, -0.03230754481832157\n",
      "EROSION             : 1.3764842840425139e-06 seconds, 1.478230500575118e-06 seconds, -0.07391745602339299\n"
     ]
    }
   ],
   "source": [
    "print('module               timing branch                    modular branch                  diff')\n",
    "for ii in range(len(header)):\n",
    "    print('{}: {} seconds, {} seconds, {}'.format(header[ii],f_means[ii],f_means_modular[ii],\n",
    "                                                  (f_means[ii]-f_means_modular[ii])/f_means[ii]))"
   ]
  },
  {
   "cell_type": "code",
   "execution_count": 37,
   "metadata": {},
   "outputs": [
    {
     "name": "stdout",
     "output_type": "stream",
     "text": [
      "11\n",
      "4295\n"
     ]
    },
    {
     "data": {
      "image/png": "[encoded data removed]",
      "text/plain": [
       "<Figure size 432x288 with 1 Axes>"
      ]
     },
     "metadata": {
      "needs_background": "light"
     },
     "output_type": "display_data"
    }
   ],
   "source": [
    "nit = np.float64(NIT)\n",
    "print(np.sum(nit<0))\n",
    "print(len(nit))\n",
    "\n",
    "\n",
    "log_bins = np.logspace(-6,-2,100)\n",
    "plt.hist(nit,bins=log_bins,histtype='step')\n",
    "plt.xscale('log')\n",
    "plt.show()"
   ]
  },
  {
   "cell_type": "code",
   "execution_count": 42,
   "metadata": {},
   "outputs": [
    {
     "data": {
      "text/plain": [
       "1.125"
      ]
     },
     "execution_count": 42,
     "metadata": {},
     "output_type": "execute_result"
    }
   ],
   "source": [
    "2.*np.pi*(6.)**2./(np.pi*8.**2.)"
   ]
  },
  {
   "cell_type": "code",
   "execution_count": 46,
   "metadata": {},
   "outputs": [
    {
     "data": {
      "text/plain": [
       "['subroutine', 'balls', 'NX,NY)']"
      ]
     },
     "execution_count": 46,
     "metadata": {},
     "output_type": "execute_result"
    }
   ],
   "source": [
    "import re\n",
    "string = 'subroutine balls(NX,NY)'\n",
    "\n",
    "re.split(' |\\(',string)"
   ]
  },
  {
   "cell_type": "code",
   "execution_count": null,
   "metadata": {},
   "outputs": [],
   "source": []
  }
 ],
 "metadata": {
  "kernelspec": {
   "display_name": "Python 3",
   "language": "python",
   "name": "python3"
  },
  "language_info": {
   "codemirror_mode": {
    "name": "ipython",
    "version": 3
   },
   "file_extension": ".py",
   "mimetype": "text/x-python",
   "name": "python",
   "nbconvert_exporter": "python",
   "pygments_lexer": "ipython3",
   "version": "3.8.12"
  }
 },
 "nbformat": 4,
 "nbformat_minor": 4
}
